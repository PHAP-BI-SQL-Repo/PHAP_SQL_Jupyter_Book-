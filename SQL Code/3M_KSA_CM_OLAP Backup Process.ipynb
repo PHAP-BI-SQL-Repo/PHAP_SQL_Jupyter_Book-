{
    "metadata": {
        "kernelspec": {
            "name": "SQL",
            "display_name": "SQL",
            "language": "sql"
        },
        "language_info": {
            "name": "sql",
            "version": ""
        }
    },
    "nbformat_minor": 2,
    "nbformat": 4,
    "cells": [
        {
            "cell_type": "markdown",
            "source": [
                "How 3M\\_CM\\_OLAP should be restored"
            ],
            "metadata": {
                "azdata_cell_guid": "10b19e3a-5e36-4a04-84ab-80a347d68dd5"
            },
            "attachments": {}
        }
    ]
}