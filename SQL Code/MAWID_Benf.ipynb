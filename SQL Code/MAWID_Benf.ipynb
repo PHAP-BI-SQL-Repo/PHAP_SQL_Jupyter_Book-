{
    "metadata": {
        "kernelspec": {
            "name": "SQL",
            "display_name": "SQL",
            "language": "sql"
        },
        "language_info": {
            "name": "sql",
            "version": ""
        }
    },
    "nbformat_minor": 2,
    "nbformat": 4,
    "cells": [
        {
            "cell_type": "markdown",
            "source": [
                "**STEP#01**\n",
                "\n",
                "insert distinct list of patient and facility ID\n",
                "\n",
                "Iteration 1:          22,754,008\n",
                "\n",
                "Iteration 2:          27,476,749"
            ],
            "metadata": {
                "azdata_cell_guid": "0459dac5-dc73-4226-a588-01fb4dae7c97"
            },
            "attachments": {}
        },
        {
            "cell_type": "code",
            "source": [
                "SELECT\t[pat_national_id]\r\n",
                "\t,\t[facility_id]\r\n",
                "\t,\tCOUNT(*)    RN\r\n",
                "INTO [Mawid].[dbo].[cas_appointment_STP_1]\r\n",
                "FROM    [Mawid].[dbo].[cas_appointment]\r\n",
                "GROUP BY [pat_national_id]\r\n",
                "    ,    [facility_id];"
            ],
            "metadata": {
                "azdata_cell_guid": "86fabfbf-c71d-44d1-8dee-da6cdedefc94"
            },
            "outputs": [],
            "execution_count": null
        },
        {
            "cell_type": "markdown",
            "source": [
                "Badriya update facility\\_CD 69,000,000 88,253,309"
            ],
            "metadata": {
                "azdata_cell_guid": "bf4b3b51-6c5d-45eb-945b-ba9846fdfa9b"
            },
            "attachments": {}
        },
        {
            "cell_type": "code",
            "source": [
                "INSERT INTO [Mawid].[dbo].[cas_appointment_STP_1] ([pat_national_id],\t[facility_id], RN)\r\n",
                "SELECT\t[pat_national_id]\r\n",
                "\t,\tSUBSTRING([appt_code],11,14) AS [facility_id]\r\n",
                "\t,\tCOUNT(*)    RN\r\n",
                "FROM [Mawid].[dbo].[cas_appointment]\r\n",
                "GROUP BY SUBSTRING([appt_code],11,14)\r\n",
                "      ,[pat_national_id]"
            ],
            "metadata": {
                "azdata_cell_guid": "022d41f1-d343-4856-8945-9c380afa0f34"
            },
            "outputs": [],
            "execution_count": null
        },
        {
            "cell_type": "markdown",
            "source": [
                "STEP#02 Insert patient from PATIENT table into stp-1 where they have  a default PHC 2,987,289 2,987,289"
            ],
            "metadata": {
                "azdata_cell_guid": "9fef48d4-7cbd-4946-b3c4-e438f42558f1"
            },
            "attachments": {}
        },
        {
            "cell_type": "code",
            "source": [
                "INSERT INTO [Mawid].[dbo].[cas_appointment_STP_1] ([pat_national_id]\r\n",
                "\t,\t[facility_id])\r\n",
                "SELECT\tSTR([pat_national_id])\t\t[pat_national_id]\r\n",
                "\t,\tdefault_phc\t\t\t\t\t[facility_id]\r\n",
                "FROM\t[Mawid].[dbo].[cas_patient]\r\n",
                "WHERE default_phc IS NOT NULL"
            ],
            "metadata": {
                "azdata_cell_guid": "93a3ada9-0a56-41e3-ad2c-b8e72028b0f2"
            },
            "outputs": [],
            "execution_count": null
        },
        {
            "cell_type": "markdown",
            "source": [
                "  --118,717,347\n",
                "\n",
                "\\--STEP#03 remove dublication 23,840,809 116,734,516"
            ],
            "metadata": {
                "azdata_cell_guid": "b4287b44-8d9f-4561-a38b-ebc936a0f181"
            },
            "attachments": {}
        },
        {
            "cell_type": "code",
            "source": [
                "SELECT\tpat_national_id\r\n",
                "\t,\tfacility_id\r\n",
                "INTO [Mawid].[dbo].[cas_appointment_STP_2]\r\n",
                "FROM\t[Mawid].[dbo].[cas_appointment_STP_1]\r\n",
                "GROUP BY pat_national_id\r\n",
                "\t,\tfacility_id;"
            ],
            "metadata": {
                "azdata_cell_guid": "ae894028-d3da-457d-8af0-a23342672b52"
            },
            "outputs": [],
            "execution_count": null
        },
        {
            "cell_type": "markdown",
            "source": [
                "STEP#04 get MOH\\_ID 23,840,809 116,734,516"
            ],
            "metadata": {
                "azdata_cell_guid": "8e12cf24-c607-4912-b893-7a1c300328c1"
            },
            "attachments": {}
        },
        {
            "cell_type": "code",
            "source": [
                "WITH\tfacility\tAS\t(\tSELECT\t[facility_description]\r\n",
                "\t\t\t\t\t\t\t\t,\tfacility_name\r\n",
                "\t\t\t\t\t\t\t\t,   [facility_description_ar]\r\n",
                "\t\t\t\t\t\t\t\t,   CAST(CAST([facility_cd]  AS FLOAT) AS NVARCHAR(100)) [facility_cd]\r\n",
                "\t\t\t\t\t\t\t\t,   [moh_facility_id]\r\n",
                "\t\t\t\t\t\t\t\t,   [cas_facility_type_id]\r\n",
                "\t\t\t\t\t\t\tFROM --[Mawid].[dbo].[cas_facility]\r\n",
                "\t\t\t\t\t\t\t[Mawid].[dbo].[facility_list_210322])\r\n",
                "SELECT\tpat_national_id\r\n",
                "\t,\tfacility_id\r\n",
                "\t,\tf.moh_facility_id\r\n",
                "INTO [Mawid].[dbo].[cas_appointment_STP_3]\r\n",
                "FROM\t[Mawid].[dbo].[cas_appointment_STP_2] a\r\n",
                "LEFT JOIN facility\t\tf\tON a.facility_id\t\t= f.facility_cd;"
            ],
            "metadata": {
                "azdata_cell_guid": "90e6650a-115f-4e4d-a99e-06dbfdedf44c"
            },
            "outputs": [],
            "execution_count": null
        },
        {
            "cell_type": "markdown",
            "source": [
                "STEP#05 get CLUSTER value 23,840,809 116,750,846"
            ],
            "metadata": {
                "azdata_cell_guid": "bcc0ff21-dfba-4ec8-8305-ddb34f34c5b8"
            },
            "attachments": {}
        },
        {
            "cell_type": "code",
            "source": [
                "SELECT\tDISTINCT\r\n",
                "\t\tpat_national_id\r\n",
                "\t,\tfacility_id\r\n",
                "\t,\tf.moh_facility_id\r\n",
                "\t,\th.CLUSTER\r\n",
                "INTO [Mawid].[dbo].[cas_appointment_STP_4]\r\n",
                "FROM\t[Mawid].[dbo].[cas_appointment_STP_3] f\r\n",
                "LEFT JOIN\t[PatientInfo].[dbo].[HospitalList_Updated]\th\tON f.moh_facility_id\t= h.MOHID;\r\n",
                ""
            ],
            "metadata": {
                "azdata_cell_guid": "977d77f6-87dd-4a05-ad66-f4d516dd8a8c"
            },
            "outputs": [],
            "execution_count": null
        },
        {
            "cell_type": "markdown",
            "source": [
                "STEP#06 Remove null cluster values, & aggregate cluster list 9,950,325"
            ],
            "metadata": {
                "azdata_cell_guid": "b37d0af9-688f-4f32-8eba-48f8b32678a2"
            },
            "attachments": {}
        },
        {
            "cell_type": "code",
            "source": [
                "SELECT\tpat_national_id\t\t\t\t\t\t\t--16,794,780\r\n",
                "\t,\tCLUSTER\r\n",
                "INTO [Mawid].[dbo].[cas_appointment_STP_51] \r\n",
                "FROM\t[Mawid].[dbo].[cas_appointment_STP_4] \r\n",
                "WHERE  CLUSTER IS NOT NULL\r\n",
                "GROUP BY pat_national_id,CLUSTER;\r\n",
                "\r\n",
                "--INSERT NVR\t\r\n",
                "INSERT INTO [Mawid].[dbo].[cas_appointment_STP_51] (pat_national_id, CLUSTER)\t--8,090,495\r\n",
                "SELECT\t[personalidentifier]\tAS pat_national_id\r\n",
                "\t,\tCluster\tAS CLUSTER\r\n",
                "FROM\t[PHAP_EDWH].[NVR].[Total_Vaccines_30082021_14_51] N\r\n",
                "LEFT JOIN [BI_TestDB].[dbo].[NVR Region List] R ON N.region_en = R.region_en \r\n",
                "\t\t\t\t\t\t\t\t\t\t\t\tAND N.city_en = R.city_en\r\n",
                "WHERE Cluster IS NOT NULL\r\n",
                "\r\n",
                "--Remove dublication\r\n",
                "SELECT pat_national_id\t\t\t\t\t--22,093,232\r\n",
                "\t, CLUSTER\r\n",
                "INTO [Mawid].[dbo].[cas_appointment_STP_52]\r\n",
                "FROM [Mawid].[dbo].[cas_appointment_STP_51] \r\n",
                "GROUP BY pat_national_id\r\n",
                "\t, CLUSTER\r\n",
                "\r\n",
                "SELECT\tpat_national_id\t\t\t\t\t--14,482,562\r\n",
                "\t,\tSTRING_AGG(CLUSTER, ',')\tCLUSTER_LIST\r\n",
                "INTO [Mawid].[dbo].[cas_appointment_STP_5] \r\n",
                "FROM\t[Mawid].[dbo].[cas_appointment_STP_52] \r\n",
                "WHERE  CLUSTER IS NOT NULL\r\n",
                "GROUP BY pat_national_id;"
            ],
            "metadata": {
                "azdata_cell_guid": "f8cbb12d-6e30-465a-8d6b-cb01c0345e2a"
            },
            "outputs": [],
            "execution_count": null
        },
        {
            "cell_type": "markdown",
            "source": [
                "STEP#07 Remove null cluster values 9,950,325 14,482,562"
            ],
            "metadata": {
                "azdata_cell_guid": "92134d7e-cb5f-482e-8ed5-6fc956d1d563"
            },
            "attachments": {}
        },
        {
            "cell_type": "code",
            "source": [
                "WITH CTE AS (\tSELECT\tSTR([pat_national_id]) AS [pat_national_id]\r\n",
                "\t\t\t\t\t,\t[pat_date_of_birth]\r\n",
                "\t\t\t\t\t,\tgender_id\r\n",
                "\t\t\t\tFROM\t[Mawid].[dbo].[cas_patient]\r\n",
                "\t\t\t\tWHERE [pat_national_id] != 0)\r\n",
                "SELECT\ta.[pat_national_id]\r\n",
                "\t,\tCASE\tWHEN gender_id = 1 THEN 'M' \r\n",
                "\t\t\t\tWHEN gender_id = 2 THEN 'F' \r\n",
                "\t\t\t\tELSE 'U' END AS gender_id\r\n",
                "\t,\tpat_date_of_birth\r\n",
                "\t,\tCLUSTER_LIST\r\n",
                "INTO [Mawid].[dbo].[cas_appointment_STP_6]\r\n",
                "FROM\t\t[Mawid].[dbo].[cas_appointment_STP_5]\ta\r\n",
                "LEFT JOIN\tCTE\tON a.pat_national_id\t= CTE.pat_national_id;"
            ],
            "metadata": {
                "azdata_cell_guid": "38743dd7-1365-4f1d-81a5-4e0a8e830696"
            },
            "outputs": [],
            "execution_count": null
        },
        {
            "cell_type": "markdown",
            "source": [
                "STEP#08 Get shared dataset between MAWID & NHIC 9,330,676 14,367,049"
            ],
            "metadata": {
                "azdata_cell_guid": "4cb6e443-d7e5-48a1-ba97-509e240be86d"
            },
            "attachments": {}
        },
        {
            "cell_type": "code",
            "source": [
                "SELECT\tm.*\r\n",
                "INTO\t[Mawid].[dbo].[cas_appointment_STP_7]\r\n",
                "FROM\t[Mawid].[dbo].[cas_appointment_STP_6] m\r\n",
                "INNER JOIN [PHAP_EDWH].[NHIC].[EXPORT_20210825] n ON m.pat_national_id = STR(n.ID);"
            ],
            "metadata": {
                "azdata_cell_guid": "96a36983-c42f-4702-97b7-83e3475936cc"
            },
            "outputs": [],
            "execution_count": null
        },
        {
            "cell_type": "markdown",
            "source": [
                "STEP#08 Get shared dataset between MAWID & NHIC 9,330,676 14,367,049"
            ],
            "metadata": {
                "azdata_cell_guid": "9f928de8-206a-41c7-b45c-1867e274fa5c"
            },
            "attachments": {}
        },
        {
            "cell_type": "code",
            "source": [
                "SELECT\t[pat_national_id]\t\t\t\t\t\t\t\t\t\t\t\t\t\tAS\t[ID]\r\n",
                "\t,\tgender_id\t\t\t\t\t\t\t\t\t\t\t\t\t\t\t\tAS\t[GENDER]\r\n",
                "\t,\tFORMAT(DATEDIFF(hour,[pat_date_of_birth],GETDATE())/8766.0, 'n2')\t\tAS\t[AGE]\r\n",
                "\t,\tCASE\tWHEN [pat_national_id] LIKE '1%' THEN 'Saudi' \r\n",
                "\t\t\t\tWHEN [pat_national_id] LIKE '2%' THEN 'non-Saudi' ELSE NULL END\tAS\t[is_saudi]\r\n",
                "\t,\tCASE\tWHEN DATEDIFF(HOUR,[pat_date_of_birth],GETDATE())/8766.0 <= 1  THEN 'Infant' \r\n",
                "\t\t\t\tWHEN DATEDIFF(HOUR,[pat_date_of_birth],GETDATE())/8766.0 <= 4  THEN 'Toddler'\r\n",
                "\t\t\t\tWHEN DATEDIFF(HOUR,[pat_date_of_birth],GETDATE())/8766.0 <= 12 THEN 'Child ' \r\n",
                "\t\t\t\tWHEN DATEDIFF(HOUR,[pat_date_of_birth],GETDATE())/8766.0 <= 19 THEN 'Teen' \r\n",
                "\t\t\t\tWHEN DATEDIFF(HOUR,[pat_date_of_birth],GETDATE())/8766.0 <= 39 THEN 'Adult' \r\n",
                "\t\t\t\tWHEN DATEDIFF(HOUR,[pat_date_of_birth],GETDATE())/8766.0 <= 59 THEN 'Middle Age Adult' \r\n",
                "\t\t\t\tWHEN DATEDIFF(HOUR,[pat_date_of_birth],GETDATE())/8766.0 >  59 THEN 'Senior Adult' \r\n",
                "\t\t\t\tELSE NULL END\t\t\t\t\t\t\t\t\t\t\t\t\tAS [Age_Class]\r\n",
                "\t,\tCASE\tWHEN POLICYEXPIRYDATE > GETDATE() then 'Active' \r\n",
                "\t\t\t\tWHEN POLICYEXPIRYDATE < GETDATE() then 'Expired' \r\n",
                "\t\t\t\tELSE 'NA' END\t\t\t\t\t\t\t\t\t\t\t\t\tAS\t[Insurance_Status]\r\n",
                "\t,\tCLUSTER_LIST\r\n",
                "\t,\tpat_date_of_birth\r\n",
                "INTO\t[Mawid].[dbo].[MAWID_INFO]\r\n",
                "FROM\t[Mawid].[dbo].[cas_appointment_STP_7] benf\r\n",
                "LEFT JOIN [PHAP_EDWH].[ORG].[CCHI_Data]  cchi ON benf.pat_national_id = cchi.IDENTITYNUMBER"
            ],
            "metadata": {
                "azdata_cell_guid": "0a23c1d2-dbda-4002-be54-724a290c719e"
            },
            "outputs": [],
            "execution_count": null
        },
        {
            "cell_type": "markdown",
            "source": [
                "STEP#08 Get BENFICIARY list with CLuster List 3,485,922"
            ],
            "metadata": {
                "azdata_cell_guid": "5cc0f762-81cf-49d7-8233-8cc85d6bd7a8"
            },
            "attachments": {}
        },
        {
            "cell_type": "code",
            "source": [
                "SELECT\t[NIN]\t\t\t\t--4,229,633\r\n",
                "\t,\tCluster\r\n",
                "INTO [Mawid].[dbo].[BENF_ClusterList_1]\r\n",
                "FROM\t[PHAP_EDWH].[BNF].[BENF_Visits]\r\n",
                "GROUP BY [NIN]\r\n",
                "\t,\tCluster\r\n",
                "\r\n",
                "\r\n",
                "SELECT\t[NIN]\t\t\t\t--3,905,099\r\n",
                "\t,\tSTRING_AGG(Cluster, ',') Cluster_List\r\n",
                "INTO [Mawid].[dbo].[BENF_ClusterList]\r\n",
                "FROM [Mawid].[dbo].[BENF_ClusterList_1]\r\n",
                "WHERE Cluster IS NOT NULL\r\n",
                "GROUP BY [NIN];\r\n",
                "\r\n",
                "\r\n",
                "\r\n",
                "WITH\tCTE_M\tAS\t(\tSELECT\tID\tAS\tNIN\r\n",
                "\t\t\t\t\t\t\t,\tvalue\tCLUSTER\r\n",
                "\t\t\t\t\t\tFROM\t[Mawid].[dbo].[MAWID_INFO]\r\n",
                "\t\t\t\t\t\tCROSS APPLY STRING_SPLIT(CLUSTER_LIST, ',')\r\n",
                "\t\t\t\t\t\tWHERE value = 'R3')\r\n",
                "\t,\tCTE_B\tAS\t(\tSELECT\tNIN\r\n",
                "\t\t\t\t\t\t\t,\tvalue\tCLUSTER\r\n",
                "\t\t\t\t\t\tFROM\t[Mawid].[dbo].[BENF_ClusterList]\r\n",
                "\t\t\t\t\t\tCROSS APPLY STRING_SPLIT(CLUSTER_LIST, ',')\r\n",
                "\t\t\t\t\t\tWHERE value = 'R3')\r\n",
                "SELECT\tFORMAT(COUNT(*), 'n0')\tCOUNT_DIFF\r\n",
                "FROM\tCTE_B\ta\r\n",
                "WHERE\tNIN\t NOT IN (SELECT NIN FROM CTE_B)\r\n",
                "--WHERE\tNIN\tIN (SELECT NIN FROM CTE_B)\t\t\r\n",
                "GROUP BY a.Cluster\r\n",
                "\r\n",
                "--SELECT\tFORMAT(COUNT(*), 'n0')\tAS\tNIN\r\n",
                "--\t,\tvalue\tCLUSTER\r\n",
                "--FROM\t[Mawid].[dbo].[cas_appointment_STP_8]\r\n",
                "--CROSS APPLY STRING_SPLIT(CLUSTER_LIST, ',')\r\n",
                "--GROUP BY value\r\n",
                "\r\n",
                "--SELECT\tFORMAT(COUNT(*), 'n0')\r\n",
                "--\t,\tvalue\tCLUSTER\r\n",
                "--FROM\t[PHAP_EDWH].[BNF].[BENF_ClusterList]\r\n",
                "--CROSS APPLY STRING_SPLIT(CLUSTER_LIST, ',')\r\n",
                "--GROUP BY value"
            ],
            "metadata": {
                "azdata_cell_guid": "f6942409-8c5f-460b-9c12-19e6b587b3ae"
            },
            "outputs": [],
            "execution_count": null
        },
        {
            "cell_type": "markdown",
            "source": [
                "**Cluster BENF MAWID Mawid Not BENF Mawif & BENF Benf Not Mawid**\n",
                "\n",
                "\\===============================================================================\n",
                "\n",
                "R1      1,241,236   1,470,987   1,401,487 69,500        1,171,736\n",
                "\n",
                "R2      1,150,146   831,736     781,311        50,425        1,099,721\n",
                "\n",
                "R3      809,914     822,992     810,312        12,680        797,234\n",
                "\n",
                "E1      777,887     1,415,762   1,341,382      74,380        703,507\n",
                "\n",
                "KFSHRC  39,878      0           0              0              39,878\n",
                "\n",
                "W1      285,348     624,723     618,374        6,349          278,999"
            ],
            "metadata": {
                "azdata_cell_guid": "45833960-8958-48bb-be9a-93a99e194cea"
            },
            "attachments": {}
        }
    ]
}