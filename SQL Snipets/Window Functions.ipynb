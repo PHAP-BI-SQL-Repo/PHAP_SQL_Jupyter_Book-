{
    "metadata": {
        "kernelspec": {
            "name": "SQL",
            "display_name": "SQL",
            "language": "sql"
        },
        "language_info": {
            "name": "sql",
            "version": ""
        }
    },
    "nbformat_minor": 2,
    "nbformat": 4,
    "cells": [
        {
            "cell_type": "markdown",
            "source": [
                "ROW\\_NUMBER() OVER ( PARTITION BY PPT.PER\\_ID ORDER BY PPT.SEQ\\_NUM DESC) RN\n",
                "\n",
                "\\[service\\_id\\]  LIKE '%\\[^0-9\\]%'\n",
                "\n",
                "  \n",
                "\n",
                "SELECT ISNULL(dh.\\[Name\\], 'UNKNOWN') AS \\[Healthcare Professional\\]\n",
                "\n",
                "LEFT JOIN \\[3M\\_KSA\\_OLAP\\].\\[dbo\\].\\[DictionaryHealthSpeciality\\] dh ON e.ProviderCode = dh.\\[Code\\]"
            ],
            "metadata": {
                "azdata_cell_guid": "f659cd76-0680-47e2-8fac-7ad1fd22f72e"
            },
            "attachments": {}
        }
    ]
}